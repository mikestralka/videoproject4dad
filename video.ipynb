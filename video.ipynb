{
 "cells": [
  {
   "cell_type": "code",
   "execution_count": 1,
   "metadata": {},
   "outputs": [],
   "source": [
    "# import moviepy functions\n",
    "from moviepy.editor import VideoFileClip, concatenate_videoclips, CompositeVideoClip, ImageClip"
   ]
  },
  {
   "cell_type": "code",
   "execution_count": 2,
   "metadata": {},
   "outputs": [],
   "source": [
    "# instantiate video clip objects from files\n",
    "clips = []\n",
    "clips.append(VideoFileClip(\"clips/one.mov\"))\n",
    "clips.append(VideoFileClip(\"clips/two.mov\"))\n",
    "clips.append(VideoFileClip(\"clips/three.mov\"))"
   ]
  },
  {
   "cell_type": "code",
   "execution_count": 3,
   "metadata": {},
   "outputs": [],
   "source": [
    "# trim the beginning of the 3rd clip \n",
    "\n",
    "clips[2] = clips[2].subclip(1)"
   ]
  },
  {
   "cell_type": "code",
   "execution_count": 4,
   "metadata": {},
   "outputs": [],
   "source": [
    "# instantiate the arrow as an image clip,\n",
    "# set its duration equal to the clip it will be added to\n",
    "\n",
    "arrow = ImageClip('arrow.png', duration=clips[1].duration)"
   ]
  },
  {
   "cell_type": "code",
   "execution_count": 5,
   "metadata": {},
   "outputs": [],
   "source": [
    "# add arrow and test output\n",
    "clips[1] = CompositeVideoClip([clips[1],arrow.set_position((90,100))])\n",
    "\n",
    "# check the positioning of the arrow by saving one frame as an image\n",
    "#test.save_frame('clips/test3.png')"
   ]
  },
  {
   "cell_type": "code",
   "execution_count": 6,
   "metadata": {},
   "outputs": [],
   "source": [
    "# splice clips together into output clip object\n",
    "final = concatenate_videoclips(clips)"
   ]
  },
  {
   "cell_type": "code",
   "execution_count": 7,
   "metadata": {},
   "outputs": [
    {
     "name": "stdout",
     "output_type": "stream",
     "text": [
      "[MoviePy] >>>> Building video clips/HBD3.mov\n",
      "[MoviePy] Writing audio in HBD3TEMP_MPY_wvf_snd.mp3\n"
     ]
    },
    {
     "name": "stderr",
     "output_type": "stream",
     "text": [
      "100%|███████████████████████████████████████████████████████████████████████████████| 665/665 [00:00<00:00, 834.38it/s]\n"
     ]
    },
    {
     "name": "stdout",
     "output_type": "stream",
     "text": [
      "[MoviePy] Done.\n",
      "[MoviePy] Writing video clips/HBD3.mov\n"
     ]
    },
    {
     "name": "stderr",
     "output_type": "stream",
     "text": [
      "100%|████████████████████████████████████████████████████████████████████████████████| 904/904 [01:29<00:00, 10.07it/s]\n"
     ]
    },
    {
     "name": "stdout",
     "output_type": "stream",
     "text": [
      "[MoviePy] Done.\n",
      "[MoviePy] >>>> Video ready: clips/HBD3.mov \n",
      "\n"
     ]
    }
   ],
   "source": [
    "# write output .mov file\n",
    "# this codec appears to work well\n",
    "final.write_videofile(\"clips/HBD3.mov\", codec='libx264')"
   ]
  },
  {
   "cell_type": "code",
   "execution_count": null,
   "metadata": {},
   "outputs": [],
   "source": []
  }
 ],
 "metadata": {
  "kernelspec": {
   "display_name": "Python 2",
   "language": "python",
   "name": "python2"
  },
  "language_info": {
   "codemirror_mode": {
    "name": "ipython",
    "version": 2
   },
   "file_extension": ".py",
   "mimetype": "text/x-python",
   "name": "python",
   "nbconvert_exporter": "python",
   "pygments_lexer": "ipython2",
   "version": "2.7.14"
  }
 },
 "nbformat": 4,
 "nbformat_minor": 2
}
